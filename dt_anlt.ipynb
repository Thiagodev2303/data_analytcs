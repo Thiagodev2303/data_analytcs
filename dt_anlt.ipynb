{
 "cells": [
  {
   "cell_type": "code",
   "execution_count": null,
   "metadata": {},
   "outputs": [],
   "source": [
    "discos_nao_explicitos=[]\n",
    "\n",
    "with open(file='./top_50_2023.csv') as fp:\n",
    "    cabecalho = fp.readline().split(sep=',')\n",
    "    indice_explicitos = cabecalho.index('is_explicit')\n",
    "    for linha in fp:\n",
    "        campo = linha.strip().split(',')\n",
    "        if campo[indice_explicitos] == 'False':\n",
    "            discos_nao_explicitos.append(','.join(campo))\n",
    "            \n",
    "            \n",
    "for disco in discos_nao_explicitos:\n",
    "    print(disco)\n",
    "    \n",
    "    \n",
    "with open(file='./discos_nao_explicitos.csv',mode='w',encoding='utf-8') as arquivo_novo:\n",
    "    for linha in discos_nao_explicitos:\n",
    "        arquivo_novo.write(linha + '\\n')\n",
    "        "
   ]
  },
  {
   "cell_type": "code",
   "execution_count": 9,
   "metadata": {},
   "outputs": [
    {
     "name": "stdout",
     "output_type": "stream",
     "text": [
      "The Weeknd,Die For You,False,2016-11-24,\"['canadian contemporary r&b', 'canadian pop', 'pop']\",0.586,0.508,0.525,-7.163,0.111,0.0,0.134,0.0615,1,133.629,0,260253,4,85\n",
      "The Weeknd,Starboy,True,2016-11-25,\"['canadian contemporary r&b', 'canadian pop', 'pop']\",0.679,0.486,0.587,-7.015,0.141,6.35e-06,0.137,0.276,7,186.003,1,230453,4,95\n",
      "The Weeknd,Die For You (with Ariana Grande) - Remix,False,2023-03-14,\"['canadian contemporary r&b', 'canadian pop', 'pop']\",0.575,0.506,0.5,-7.594,0.227,0.0,0.335,0.0707,1,67.033,0,232857,4,85\n",
      "The Weeknd,Blinding Lights,False,2020-03-20,\"['canadian contemporary r&b', 'canadian pop', 'pop']\",0.514,0.334,0.73,-5.934,0.00146,9.54e-05,0.0897,0.0598,1,171.005,1,200040,4,93\n"
     ]
    }
   ],
   "source": [
    "#Discos do the Weekend\n",
    "\n",
    "the_weekend=[]\n",
    "\n",
    "with open(file='./top_50_2023.csv', mode='r',encoding='utf-8') as fp1:\n",
    "    cabecalho_theweekend= fp1.readline().split(sep=',')\n",
    "    indice_theweekend= cabecalho.index('artist_name')\n",
    "    for linha in fp1:\n",
    "        campo = linha.strip().split(sep=',')\n",
    "        if campo[indice_theweekend] == 'The Weeknd':\n",
    "            the_weekend.append(','.join(campo))\n",
    "            \n",
    "\n",
    "for linha in the_weekend:\n",
    "    print(linha)\n",
    "    \n",
    "with open(file='./theweeknd.csv',mode='w',encoding='utf-8') as td:\n",
    "    for music in the_weekend:\n",
    "        td.write(linha + '\\n')\n",
    "    "
   ]
  },
  {
   "cell_type": "code",
   "execution_count": 12,
   "metadata": {},
   "outputs": [],
   "source": [
    "#Transformando esses dados em Excel\n",
    "\n",
    "import pandas as pd\n",
    "import openpyxl\n",
    "\n",
    "dados = pd.read_csv('theweeknd.csv')\n",
    "\n",
    "dados.to_excel('discos_nao_explicitos.xlsx', index=False)\n"
   ]
  },
  {
   "cell_type": "code",
   "execution_count": null,
   "metadata": {},
   "outputs": [],
   "source": []
  }
 ],
 "metadata": {
  "kernelspec": {
   "display_name": "Python 3",
   "language": "python",
   "name": "python3"
  },
  "language_info": {
   "codemirror_mode": {
    "name": "ipython",
    "version": 3
   },
   "file_extension": ".py",
   "mimetype": "text/x-python",
   "name": "python",
   "nbconvert_exporter": "python",
   "pygments_lexer": "ipython3",
   "version": "3.12.1"
  }
 },
 "nbformat": 4,
 "nbformat_minor": 2
}
